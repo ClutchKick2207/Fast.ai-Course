{
 "cells": [
  {
   "cell_type": "markdown",
   "metadata": {},
   "source": [
    "# Setting up a GPU Deep Learning Server\n",
    "Most of the work you end up doing with *most* frameworks will require a GPU. Nvidia is the way to go, but I will be doing this course using WSL 2.0, and DirectML to use the Discrete Intel Graphics on this machine.\n",
    "\n",
    "If you do not have the time/need to set up on a machine, Google Collaboratory"
   ]
  }
 ],
 "metadata": {
  "interpreter": {
   "hash": "bc033ac1d5b396efcb8d2b9c8ebd08a6468f4056aed3d5e1ac94427d17274a41"
  },
  "kernelspec": {
   "display_name": "Python 3.8.12 ('pydml')",
   "language": "python",
   "name": "python3"
  },
  "language_info": {
   "name": "python",
   "version": "3.8.12"
  },
  "orig_nbformat": 4
 },
 "nbformat": 4,
 "nbformat_minor": 2
}
