{
 "cells": [
  {
   "cell_type": "markdown",
   "metadata": {},
   "source": [
    "# Setting up a GPU Deep Learning Server\n",
    "Most of the work you end up doing with *most* frameworks will require a GPU. Nvidia is the way to go, but I will be doing this course using WSL 2.0, and DirectML to use the Discrete Intel Graphics on this machine.\n"
   ]
  },
  {
   "cell_type": "markdown",
   "metadata": {},
   "source": [
    "If you do not have the time/need to set up on a machine, Google Collaboratory is a good bet, as you can get access to a good GPU, and have everything hosted on a server (therefore not requiring great specs)."
   ]
  },
  {
   "cell_type": "code",
   "execution_count": 1,
   "metadata": {},
   "outputs": [
    {
     "name": "stderr",
     "output_type": "stream",
     "text": [
      "/home/ariz/miniconda3/envs/pydml/lib/python3.8/site-packages/tqdm/auto.py:22: TqdmWarning: IProgress not found. Please update jupyter and ipywidgets. See https://ipywidgets.readthedocs.io/en/stable/user_install.html\n",
      "  from .autonotebook import tqdm as notebook_tqdm\n"
     ]
    },
    {
     "name": "stdout",
     "output_type": "stream",
     "text": [
      "Downloading a new version of this dataset...\n"
     ]
    },
    {
     "data": {
      "text/html": [
       "\n",
       "<style>\n",
       "    /* Turns off some styling */\n",
       "    progress {\n",
       "        /* gets rid of default border in Firefox and Opera. */\n",
       "        border: none;\n",
       "        /* Needs to be in here for Safari polyfill so background images work as expected. */\n",
       "        background-size: auto;\n",
       "    }\n",
       "    .progress-bar-interrupted, .progress-bar-interrupted::-webkit-progress-bar {\n",
       "        background: #F44336;\n",
       "    }\n",
       "</style>\n"
      ],
      "text/plain": [
       "<IPython.core.display.HTML object>"
      ]
     },
     "metadata": {},
     "output_type": "display_data"
    },
    {
     "data": {
      "text/html": [
       "\n",
       "    <div>\n",
       "      <progress value='56598528' class='' max='811706944' style='width:300px; height:20px; vertical-align: middle;'></progress>\n",
       "      6.97% [56598528/811706944 00:35<07:54]\n",
       "    </div>\n",
       "    "
      ],
      "text/plain": [
       "<IPython.core.display.HTML object>"
      ]
     },
     "metadata": {},
     "output_type": "display_data"
    },
    {
     "ename": "KeyboardInterrupt",
     "evalue": "",
     "output_type": "error",
     "traceback": [
      "\u001b[0;31m---------------------------------------------------------------------------\u001b[0m",
      "\u001b[0;31mKeyboardInterrupt\u001b[0m                         Traceback (most recent call last)",
      "\u001b[1;32m/mnt/c/Users/ariza/Documents/GitHub/Fast.ai-Course/Deep Learning For Coders Book/first-model.ipynb Cell 3'\u001b[0m in \u001b[0;36m<cell line: 2>\u001b[0;34m()\u001b[0m\n\u001b[1;32m      <a href='vscode-notebook-cell://wsl%2Bubuntu/mnt/c/Users/ariza/Documents/GitHub/Fast.ai-Course/Deep%20Learning%20For%20Coders%20Book/first-model.ipynb#ch0000002vscode-remote?line=0'>1</a>\u001b[0m \u001b[39mfrom\u001b[39;00m \u001b[39mfastai\u001b[39;00m\u001b[39m.\u001b[39;00m\u001b[39mvision\u001b[39;00m\u001b[39m.\u001b[39;00m\u001b[39mall\u001b[39;00m \u001b[39mimport\u001b[39;00m \u001b[39m*\u001b[39m \n\u001b[0;32m----> <a href='vscode-notebook-cell://wsl%2Bubuntu/mnt/c/Users/ariza/Documents/GitHub/Fast.ai-Course/Deep%20Learning%20For%20Coders%20Book/first-model.ipynb#ch0000002vscode-remote?line=1'>2</a>\u001b[0m path \u001b[39m=\u001b[39m untar_data(URLs\u001b[39m.\u001b[39;49mPETS)\u001b[39m/\u001b[39m\u001b[39m'\u001b[39m\u001b[39mimages\u001b[39m\u001b[39m'\u001b[39m\n\u001b[1;32m      <a href='vscode-notebook-cell://wsl%2Bubuntu/mnt/c/Users/ariza/Documents/GitHub/Fast.ai-Course/Deep%20Learning%20For%20Coders%20Book/first-model.ipynb#ch0000002vscode-remote?line=3'>4</a>\u001b[0m \u001b[39mdef\u001b[39;00m \u001b[39mis_cat\u001b[39m(x): \u001b[39mreturn\u001b[39;00m x[\u001b[39m0\u001b[39m]\u001b[39m.\u001b[39misupper() \n\u001b[1;32m      <a href='vscode-notebook-cell://wsl%2Bubuntu/mnt/c/Users/ariza/Documents/GitHub/Fast.ai-Course/Deep%20Learning%20For%20Coders%20Book/first-model.ipynb#ch0000002vscode-remote?line=4'>5</a>\u001b[0m dls \u001b[39m=\u001b[39m ImageDataLoaders\u001b[39m.\u001b[39mfrom_name_func( path, get_image_files(path), valid_pct\u001b[39m=\u001b[39m\u001b[39m0.2\u001b[39m, seed\u001b[39m=\u001b[39m\u001b[39m42\u001b[39m, label_func\u001b[39m=\u001b[39mis_cat, item_tfms\u001b[39m=\u001b[39mResize(\u001b[39m224\u001b[39m))\n",
      "File \u001b[0;32m~/miniconda3/envs/pydml/lib/python3.8/site-packages/fastai/data/external.py:124\u001b[0m, in \u001b[0;36muntar_data\u001b[0;34m(url, archive, data, c_key, force_download)\u001b[0m\n\u001b[1;32m    <a href='file:///~/miniconda3/envs/pydml/lib/python3.8/site-packages/fastai/data/external.py?line=121'>122</a>\u001b[0m \u001b[39m\"\u001b[39m\u001b[39mDownload `url` to `fname` if `dest` doesn\u001b[39m\u001b[39m'\u001b[39m\u001b[39mt exist, and extract to folder `dest`\u001b[39m\u001b[39m\"\u001b[39m\n\u001b[1;32m    <a href='file:///~/miniconda3/envs/pydml/lib/python3.8/site-packages/fastai/data/external.py?line=122'>123</a>\u001b[0m d \u001b[39m=\u001b[39m FastDownload(fastai_cfg(), module\u001b[39m=\u001b[39mfastai\u001b[39m.\u001b[39mdata, archive\u001b[39m=\u001b[39marchive, data\u001b[39m=\u001b[39mdata, base\u001b[39m=\u001b[39m\u001b[39m'\u001b[39m\u001b[39m~/.fastai\u001b[39m\u001b[39m'\u001b[39m)\n\u001b[0;32m--> <a href='file:///~/miniconda3/envs/pydml/lib/python3.8/site-packages/fastai/data/external.py?line=123'>124</a>\u001b[0m \u001b[39mreturn\u001b[39;00m d\u001b[39m.\u001b[39;49mget(url, force\u001b[39m=\u001b[39;49mforce_download, extract_key\u001b[39m=\u001b[39;49mc_key)\n",
      "File \u001b[0;32m~/miniconda3/envs/pydml/lib/python3.8/site-packages/fastdownload/core.py:121\u001b[0m, in \u001b[0;36mFastDownload.get\u001b[0;34m(self, url, extract_key, force)\u001b[0m\n\u001b[1;32m    <a href='file:///~/miniconda3/envs/pydml/lib/python3.8/site-packages/fastdownload/core.py?line=118'>119</a>\u001b[0m     data \u001b[39m=\u001b[39m \u001b[39mself\u001b[39m\u001b[39m.\u001b[39mdata_path(extract_key, urldest(url, \u001b[39mself\u001b[39m\u001b[39m.\u001b[39march_path()))\n\u001b[1;32m    <a href='file:///~/miniconda3/envs/pydml/lib/python3.8/site-packages/fastdownload/core.py?line=119'>120</a>\u001b[0m     \u001b[39mif\u001b[39;00m data\u001b[39m.\u001b[39mexists(): \u001b[39mreturn\u001b[39;00m data\n\u001b[0;32m--> <a href='file:///~/miniconda3/envs/pydml/lib/python3.8/site-packages/fastdownload/core.py?line=120'>121</a>\u001b[0m \u001b[39mself\u001b[39;49m\u001b[39m.\u001b[39;49mdownload(url, force\u001b[39m=\u001b[39;49mforce)\n\u001b[1;32m    <a href='file:///~/miniconda3/envs/pydml/lib/python3.8/site-packages/fastdownload/core.py?line=121'>122</a>\u001b[0m \u001b[39mreturn\u001b[39;00m \u001b[39mself\u001b[39m\u001b[39m.\u001b[39mextract(url, extract_key\u001b[39m=\u001b[39mextract_key, force\u001b[39m=\u001b[39mforce)\n",
      "File \u001b[0;32m~/miniconda3/envs/pydml/lib/python3.8/site-packages/fastdownload/core.py:96\u001b[0m, in \u001b[0;36mFastDownload.download\u001b[0;34m(self, url, force)\u001b[0m\n\u001b[1;32m     <a href='file:///~/miniconda3/envs/pydml/lib/python3.8/site-packages/fastdownload/core.py?line=93'>94</a>\u001b[0m \u001b[39m\"\u001b[39m\u001b[39mDownload `url` to archive path, unless exists and `self.check` fails and not `force`\u001b[39m\u001b[39m\"\u001b[39m\n\u001b[1;32m     <a href='file:///~/miniconda3/envs/pydml/lib/python3.8/site-packages/fastdownload/core.py?line=94'>95</a>\u001b[0m \u001b[39mself\u001b[39m\u001b[39m.\u001b[39march_path()\u001b[39m.\u001b[39mmkdir(exist_ok\u001b[39m=\u001b[39m\u001b[39mTrue\u001b[39;00m, parents\u001b[39m=\u001b[39m\u001b[39mTrue\u001b[39;00m)\n\u001b[0;32m---> <a href='file:///~/miniconda3/envs/pydml/lib/python3.8/site-packages/fastdownload/core.py?line=95'>96</a>\u001b[0m \u001b[39mreturn\u001b[39;00m download_and_check(url, urldest(url, \u001b[39mself\u001b[39;49m\u001b[39m.\u001b[39;49march_path()), \u001b[39mself\u001b[39;49m\u001b[39m.\u001b[39;49mmodule, force)\n",
      "File \u001b[0;32m~/miniconda3/envs/pydml/lib/python3.8/site-packages/fastdownload/core.py:65\u001b[0m, in \u001b[0;36mdownload_and_check\u001b[0;34m(url, fpath, fmod, force)\u001b[0m\n\u001b[1;32m     <a href='file:///~/miniconda3/envs/pydml/lib/python3.8/site-packages/fastdownload/core.py?line=62'>63</a>\u001b[0m     \u001b[39mif\u001b[39;00m check(fmod, url, fpath): \u001b[39mreturn\u001b[39;00m fpath\n\u001b[1;32m     <a href='file:///~/miniconda3/envs/pydml/lib/python3.8/site-packages/fastdownload/core.py?line=63'>64</a>\u001b[0m     \u001b[39melse\u001b[39;00m: \u001b[39mprint\u001b[39m(\u001b[39m\"\u001b[39m\u001b[39mDownloading a new version of this dataset...\u001b[39m\u001b[39m\"\u001b[39m)\n\u001b[0;32m---> <a href='file:///~/miniconda3/envs/pydml/lib/python3.8/site-packages/fastdownload/core.py?line=64'>65</a>\u001b[0m res \u001b[39m=\u001b[39m download_url(url, fpath)\n\u001b[1;32m     <a href='file:///~/miniconda3/envs/pydml/lib/python3.8/site-packages/fastdownload/core.py?line=65'>66</a>\u001b[0m \u001b[39mif\u001b[39;00m \u001b[39mnot\u001b[39;00m check(fmod, url, fpath): \u001b[39mraise\u001b[39;00m \u001b[39mException\u001b[39;00m(\u001b[39m\"\u001b[39m\u001b[39mDownloaded file is corrupt or not latest version\u001b[39m\u001b[39m\"\u001b[39m)\n\u001b[1;32m     <a href='file:///~/miniconda3/envs/pydml/lib/python3.8/site-packages/fastdownload/core.py?line=66'>67</a>\u001b[0m \u001b[39mreturn\u001b[39;00m res\n",
      "File \u001b[0;32m~/miniconda3/envs/pydml/lib/python3.8/site-packages/fastdownload/core.py:23\u001b[0m, in \u001b[0;36mdownload_url\u001b[0;34m(url, dest, timeout, show_progress)\u001b[0m\n\u001b[1;32m     <a href='file:///~/miniconda3/envs/pydml/lib/python3.8/site-packages/fastdownload/core.py?line=20'>21</a>\u001b[0m     pbar\u001b[39m.\u001b[39mtotal \u001b[39m=\u001b[39m tsize\n\u001b[1;32m     <a href='file:///~/miniconda3/envs/pydml/lib/python3.8/site-packages/fastdownload/core.py?line=21'>22</a>\u001b[0m     pbar\u001b[39m.\u001b[39mupdate(count\u001b[39m*\u001b[39mbsize)\n\u001b[0;32m---> <a href='file:///~/miniconda3/envs/pydml/lib/python3.8/site-packages/fastdownload/core.py?line=22'>23</a>\u001b[0m \u001b[39mreturn\u001b[39;00m urlsave(url, dest, reporthook\u001b[39m=\u001b[39;49mprogress \u001b[39mif\u001b[39;49;00m show_progress \u001b[39melse\u001b[39;49;00m \u001b[39mNone\u001b[39;49;00m, timeout\u001b[39m=\u001b[39;49mtimeout)\n",
      "File \u001b[0;32m~/miniconda3/envs/pydml/lib/python3.8/site-packages/fastcore/net.py:178\u001b[0m, in \u001b[0;36murlsave\u001b[0;34m(url, dest, reporthook, timeout)\u001b[0m\n\u001b[1;32m    <a href='file:///~/miniconda3/envs/pydml/lib/python3.8/site-packages/fastcore/net.py?line=175'>176</a>\u001b[0m dest \u001b[39m=\u001b[39m urldest(url, dest)\n\u001b[1;32m    <a href='file:///~/miniconda3/envs/pydml/lib/python3.8/site-packages/fastcore/net.py?line=176'>177</a>\u001b[0m dest\u001b[39m.\u001b[39mparent\u001b[39m.\u001b[39mmkdir(parents\u001b[39m=\u001b[39m\u001b[39mTrue\u001b[39;00m, exist_ok\u001b[39m=\u001b[39m\u001b[39mTrue\u001b[39;00m)\n\u001b[0;32m--> <a href='file:///~/miniconda3/envs/pydml/lib/python3.8/site-packages/fastcore/net.py?line=177'>178</a>\u001b[0m nm,msg \u001b[39m=\u001b[39m urlretrieve(url, dest, reporthook, timeout\u001b[39m=\u001b[39;49mtimeout)\n\u001b[1;32m    <a href='file:///~/miniconda3/envs/pydml/lib/python3.8/site-packages/fastcore/net.py?line=178'>179</a>\u001b[0m \u001b[39mreturn\u001b[39;00m nm\n",
      "File \u001b[0;32m~/miniconda3/envs/pydml/lib/python3.8/site-packages/fastcore/net.py:155\u001b[0m, in \u001b[0;36murlretrieve\u001b[0;34m(url, filename, reporthook, data, timeout)\u001b[0m\n\u001b[1;32m    <a href='file:///~/miniconda3/envs/pydml/lib/python3.8/site-packages/fastcore/net.py?line=152'>153</a>\u001b[0m \u001b[39mif\u001b[39;00m reporthook: reporthook(blocknum, bs, size)\n\u001b[1;32m    <a href='file:///~/miniconda3/envs/pydml/lib/python3.8/site-packages/fastcore/net.py?line=153'>154</a>\u001b[0m \u001b[39mwhile\u001b[39;00m \u001b[39mTrue\u001b[39;00m:\n\u001b[0;32m--> <a href='file:///~/miniconda3/envs/pydml/lib/python3.8/site-packages/fastcore/net.py?line=154'>155</a>\u001b[0m     block \u001b[39m=\u001b[39m fp\u001b[39m.\u001b[39;49mread(bs)\n\u001b[1;32m    <a href='file:///~/miniconda3/envs/pydml/lib/python3.8/site-packages/fastcore/net.py?line=155'>156</a>\u001b[0m     \u001b[39mif\u001b[39;00m \u001b[39mnot\u001b[39;00m block: \u001b[39mbreak\u001b[39;00m\n\u001b[1;32m    <a href='file:///~/miniconda3/envs/pydml/lib/python3.8/site-packages/fastcore/net.py?line=156'>157</a>\u001b[0m     read \u001b[39m+\u001b[39m\u001b[39m=\u001b[39m \u001b[39mlen\u001b[39m(block)\n",
      "File \u001b[0;32m~/miniconda3/envs/pydml/lib/python3.8/http/client.py:459\u001b[0m, in \u001b[0;36mHTTPResponse.read\u001b[0;34m(self, amt)\u001b[0m\n\u001b[1;32m    <a href='file:///~/miniconda3/envs/pydml/lib/python3.8/http/client.py?line=455'>456</a>\u001b[0m \u001b[39mif\u001b[39;00m amt \u001b[39mis\u001b[39;00m \u001b[39mnot\u001b[39;00m \u001b[39mNone\u001b[39;00m:\n\u001b[1;32m    <a href='file:///~/miniconda3/envs/pydml/lib/python3.8/http/client.py?line=456'>457</a>\u001b[0m     \u001b[39m# Amount is given, implement using readinto\u001b[39;00m\n\u001b[1;32m    <a href='file:///~/miniconda3/envs/pydml/lib/python3.8/http/client.py?line=457'>458</a>\u001b[0m     b \u001b[39m=\u001b[39m \u001b[39mbytearray\u001b[39m(amt)\n\u001b[0;32m--> <a href='file:///~/miniconda3/envs/pydml/lib/python3.8/http/client.py?line=458'>459</a>\u001b[0m     n \u001b[39m=\u001b[39m \u001b[39mself\u001b[39;49m\u001b[39m.\u001b[39;49mreadinto(b)\n\u001b[1;32m    <a href='file:///~/miniconda3/envs/pydml/lib/python3.8/http/client.py?line=459'>460</a>\u001b[0m     \u001b[39mreturn\u001b[39;00m \u001b[39mmemoryview\u001b[39m(b)[:n]\u001b[39m.\u001b[39mtobytes()\n\u001b[1;32m    <a href='file:///~/miniconda3/envs/pydml/lib/python3.8/http/client.py?line=460'>461</a>\u001b[0m \u001b[39melse\u001b[39;00m:\n\u001b[1;32m    <a href='file:///~/miniconda3/envs/pydml/lib/python3.8/http/client.py?line=461'>462</a>\u001b[0m     \u001b[39m# Amount is not given (unbounded read) so we must check self.length\u001b[39;00m\n\u001b[1;32m    <a href='file:///~/miniconda3/envs/pydml/lib/python3.8/http/client.py?line=462'>463</a>\u001b[0m     \u001b[39m# and self.chunked\u001b[39;00m\n",
      "File \u001b[0;32m~/miniconda3/envs/pydml/lib/python3.8/http/client.py:503\u001b[0m, in \u001b[0;36mHTTPResponse.readinto\u001b[0;34m(self, b)\u001b[0m\n\u001b[1;32m    <a href='file:///~/miniconda3/envs/pydml/lib/python3.8/http/client.py?line=497'>498</a>\u001b[0m         b \u001b[39m=\u001b[39m \u001b[39mmemoryview\u001b[39m(b)[\u001b[39m0\u001b[39m:\u001b[39mself\u001b[39m\u001b[39m.\u001b[39mlength]\n\u001b[1;32m    <a href='file:///~/miniconda3/envs/pydml/lib/python3.8/http/client.py?line=499'>500</a>\u001b[0m \u001b[39m# we do not use _safe_read() here because this may be a .will_close\u001b[39;00m\n\u001b[1;32m    <a href='file:///~/miniconda3/envs/pydml/lib/python3.8/http/client.py?line=500'>501</a>\u001b[0m \u001b[39m# connection, and the user is reading more bytes than will be provided\u001b[39;00m\n\u001b[1;32m    <a href='file:///~/miniconda3/envs/pydml/lib/python3.8/http/client.py?line=501'>502</a>\u001b[0m \u001b[39m# (for example, reading in 1k chunks)\u001b[39;00m\n\u001b[0;32m--> <a href='file:///~/miniconda3/envs/pydml/lib/python3.8/http/client.py?line=502'>503</a>\u001b[0m n \u001b[39m=\u001b[39m \u001b[39mself\u001b[39;49m\u001b[39m.\u001b[39;49mfp\u001b[39m.\u001b[39;49mreadinto(b)\n\u001b[1;32m    <a href='file:///~/miniconda3/envs/pydml/lib/python3.8/http/client.py?line=503'>504</a>\u001b[0m \u001b[39mif\u001b[39;00m \u001b[39mnot\u001b[39;00m n \u001b[39mand\u001b[39;00m b:\n\u001b[1;32m    <a href='file:///~/miniconda3/envs/pydml/lib/python3.8/http/client.py?line=504'>505</a>\u001b[0m     \u001b[39m# Ideally, we would raise IncompleteRead if the content-length\u001b[39;00m\n\u001b[1;32m    <a href='file:///~/miniconda3/envs/pydml/lib/python3.8/http/client.py?line=505'>506</a>\u001b[0m     \u001b[39m# wasn't satisfied, but it might break compatibility.\u001b[39;00m\n\u001b[1;32m    <a href='file:///~/miniconda3/envs/pydml/lib/python3.8/http/client.py?line=506'>507</a>\u001b[0m     \u001b[39mself\u001b[39m\u001b[39m.\u001b[39m_close_conn()\n",
      "File \u001b[0;32m~/miniconda3/envs/pydml/lib/python3.8/socket.py:669\u001b[0m, in \u001b[0;36mSocketIO.readinto\u001b[0;34m(self, b)\u001b[0m\n\u001b[1;32m    <a href='file:///~/miniconda3/envs/pydml/lib/python3.8/socket.py?line=666'>667</a>\u001b[0m \u001b[39mwhile\u001b[39;00m \u001b[39mTrue\u001b[39;00m:\n\u001b[1;32m    <a href='file:///~/miniconda3/envs/pydml/lib/python3.8/socket.py?line=667'>668</a>\u001b[0m     \u001b[39mtry\u001b[39;00m:\n\u001b[0;32m--> <a href='file:///~/miniconda3/envs/pydml/lib/python3.8/socket.py?line=668'>669</a>\u001b[0m         \u001b[39mreturn\u001b[39;00m \u001b[39mself\u001b[39;49m\u001b[39m.\u001b[39;49m_sock\u001b[39m.\u001b[39;49mrecv_into(b)\n\u001b[1;32m    <a href='file:///~/miniconda3/envs/pydml/lib/python3.8/socket.py?line=669'>670</a>\u001b[0m     \u001b[39mexcept\u001b[39;00m timeout:\n\u001b[1;32m    <a href='file:///~/miniconda3/envs/pydml/lib/python3.8/socket.py?line=670'>671</a>\u001b[0m         \u001b[39mself\u001b[39m\u001b[39m.\u001b[39m_timeout_occurred \u001b[39m=\u001b[39m \u001b[39mTrue\u001b[39;00m\n",
      "File \u001b[0;32m~/miniconda3/envs/pydml/lib/python3.8/ssl.py:1241\u001b[0m, in \u001b[0;36mSSLSocket.recv_into\u001b[0;34m(self, buffer, nbytes, flags)\u001b[0m\n\u001b[1;32m   <a href='file:///~/miniconda3/envs/pydml/lib/python3.8/ssl.py?line=1236'>1237</a>\u001b[0m     \u001b[39mif\u001b[39;00m flags \u001b[39m!=\u001b[39m \u001b[39m0\u001b[39m:\n\u001b[1;32m   <a href='file:///~/miniconda3/envs/pydml/lib/python3.8/ssl.py?line=1237'>1238</a>\u001b[0m         \u001b[39mraise\u001b[39;00m \u001b[39mValueError\u001b[39;00m(\n\u001b[1;32m   <a href='file:///~/miniconda3/envs/pydml/lib/python3.8/ssl.py?line=1238'>1239</a>\u001b[0m           \u001b[39m\"\u001b[39m\u001b[39mnon-zero flags not allowed in calls to recv_into() on \u001b[39m\u001b[39m%s\u001b[39;00m\u001b[39m\"\u001b[39m \u001b[39m%\u001b[39m\n\u001b[1;32m   <a href='file:///~/miniconda3/envs/pydml/lib/python3.8/ssl.py?line=1239'>1240</a>\u001b[0m           \u001b[39mself\u001b[39m\u001b[39m.\u001b[39m\u001b[39m__class__\u001b[39m)\n\u001b[0;32m-> <a href='file:///~/miniconda3/envs/pydml/lib/python3.8/ssl.py?line=1240'>1241</a>\u001b[0m     \u001b[39mreturn\u001b[39;00m \u001b[39mself\u001b[39;49m\u001b[39m.\u001b[39;49mread(nbytes, buffer)\n\u001b[1;32m   <a href='file:///~/miniconda3/envs/pydml/lib/python3.8/ssl.py?line=1241'>1242</a>\u001b[0m \u001b[39melse\u001b[39;00m:\n\u001b[1;32m   <a href='file:///~/miniconda3/envs/pydml/lib/python3.8/ssl.py?line=1242'>1243</a>\u001b[0m     \u001b[39mreturn\u001b[39;00m \u001b[39msuper\u001b[39m()\u001b[39m.\u001b[39mrecv_into(buffer, nbytes, flags)\n",
      "File \u001b[0;32m~/miniconda3/envs/pydml/lib/python3.8/ssl.py:1099\u001b[0m, in \u001b[0;36mSSLSocket.read\u001b[0;34m(self, len, buffer)\u001b[0m\n\u001b[1;32m   <a href='file:///~/miniconda3/envs/pydml/lib/python3.8/ssl.py?line=1096'>1097</a>\u001b[0m \u001b[39mtry\u001b[39;00m:\n\u001b[1;32m   <a href='file:///~/miniconda3/envs/pydml/lib/python3.8/ssl.py?line=1097'>1098</a>\u001b[0m     \u001b[39mif\u001b[39;00m buffer \u001b[39mis\u001b[39;00m \u001b[39mnot\u001b[39;00m \u001b[39mNone\u001b[39;00m:\n\u001b[0;32m-> <a href='file:///~/miniconda3/envs/pydml/lib/python3.8/ssl.py?line=1098'>1099</a>\u001b[0m         \u001b[39mreturn\u001b[39;00m \u001b[39mself\u001b[39;49m\u001b[39m.\u001b[39;49m_sslobj\u001b[39m.\u001b[39;49mread(\u001b[39mlen\u001b[39;49m, buffer)\n\u001b[1;32m   <a href='file:///~/miniconda3/envs/pydml/lib/python3.8/ssl.py?line=1099'>1100</a>\u001b[0m     \u001b[39melse\u001b[39;00m:\n\u001b[1;32m   <a href='file:///~/miniconda3/envs/pydml/lib/python3.8/ssl.py?line=1100'>1101</a>\u001b[0m         \u001b[39mreturn\u001b[39;00m \u001b[39mself\u001b[39m\u001b[39m.\u001b[39m_sslobj\u001b[39m.\u001b[39mread(\u001b[39mlen\u001b[39m)\n",
      "\u001b[0;31mKeyboardInterrupt\u001b[0m: "
     ]
    }
   ],
   "source": [
    "from fastai.vision.all import * \n",
    "path = untar_data(URLs.PETS)/'images'\n",
    "\n",
    "def is_cat(x): return x[0].isupper() \n",
    "dls = ImageDataLoaders.from_name_func( path, get_image_files(path), valid_pct=0.2, seed=42, label_func=is_cat, item_tfms=Resize(224))\n",
    "\n",
    "learn = cnn_learner(dls, resnet34, metrics=error_rate)\n",
    "learn.fine_tune(1)"
   ]
  }
 ],
 "metadata": {
  "interpreter": {
   "hash": "bc033ac1d5b396efcb8d2b9c8ebd08a6468f4056aed3d5e1ac94427d17274a41"
  },
  "kernelspec": {
   "display_name": "Python 3.8.12 ('pydml')",
   "language": "python",
   "name": "python3"
  },
  "language_info": {
   "codemirror_mode": {
    "name": "ipython",
    "version": 3
   },
   "file_extension": ".py",
   "mimetype": "text/x-python",
   "name": "python",
   "nbconvert_exporter": "python",
   "pygments_lexer": "ipython3",
   "version": "3.8.12"
  },
  "orig_nbformat": 4
 },
 "nbformat": 4,
 "nbformat_minor": 2
}
