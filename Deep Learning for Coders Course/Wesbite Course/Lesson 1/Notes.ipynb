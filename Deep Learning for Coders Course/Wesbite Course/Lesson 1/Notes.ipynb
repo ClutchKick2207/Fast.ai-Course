{
 "cells": [
  {
   "cell_type": "markdown",
   "metadata": {},
   "source": [
    "# Deep Learning for Coders - Lesson 1 Notes\n",
    "Look at the book as well!"
   ]
  },
  {
   "cell_type": "markdown",
   "metadata": {},
   "source": [
    "### What you don't need, to do deep learning:\n",
    "\n",
    "|Myth (don't need) | Truth|\n",
    "|------------------|------|\t\n",
    "Lots of math | Just high school math is sufficient|\n",
    "Lots of data | We've seen record-breaking results with <50 items of data|\n",
    "Lots of expensive computers | You can get what you need for state of the art work for free|"
   ]
  }
 ],
 "metadata": {
  "language_info": {
   "name": "python"
  },
  "orig_nbformat": 4
 },
 "nbformat": 4,
 "nbformat_minor": 2
}
