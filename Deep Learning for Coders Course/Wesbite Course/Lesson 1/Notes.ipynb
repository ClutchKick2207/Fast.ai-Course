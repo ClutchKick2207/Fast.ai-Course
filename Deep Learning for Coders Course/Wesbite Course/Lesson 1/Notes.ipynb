{
 "cells": [
  {
   "cell_type": "markdown",
   "metadata": {},
   "source": [
    "# Deep Learning for Coders - Lesson 1 Notes\n",
    "Look at the book as well!"
   ]
  },
  {
   "cell_type": "markdown",
   "metadata": {},
   "source": [
    "### What you don't need, to do deep learning:\n",
    "\n",
    "|Myth (don't need) | Truth|\n",
    "|------------------|------|\t\n",
    "Lots of math | Just high school math is sufficient|\n",
    "Lots of data | We've seen record-breaking results with <50 items of data|\n",
    "Lots of expensive computers | You can get what you need for state of the art work for free|"
   ]
  },
  {
   "cell_type": "markdown",
   "metadata": {},
   "source": [
    "### Where is deep learning the best-known approach? (Is there any point learning Deep Learning?)\n",
    "Deep learning has power, flexibility, and simplicity. That's why we believe it should be applied across many disciplines. These include the social and physical sciences, the arts, medicine, finance, scientific research, and many more. Here's a list of some of the thousands of tasks in different areas at which deep learning, or methods heavily using deep learning, is now the best in the world:\n",
    "\n",
    "* **Natural language processing (NLP)** Answering questions; speech recognition; summarizing documents; classifying documents; finding names, dates, etc. in documents; searching for articles mentioning a concept\n",
    "\n",
    "* **Computer vision** Satellite and drone imagery interpretation (e.g., for disaster resilience); face recognition; image captioning; reading traffic signs; locating pedestrians and vehicles in autonomous vehicles\n",
    "\n",
    "* **Medicine** Finding anomalies in radiology images, including CT, MRI, and X-ray images; counting features in pathology slides; measuring features in ultrasounds; diagnosing diabetic retinopathy\n",
    "\n",
    "* **Biology** Folding proteins; classifying proteins; many genomics tasks, such as tumor-normal sequencing and classifying clinically actionable genetic mutations; cell classification; analyzing protein/protein interactions\n",
    "\n",
    "* **Image generation** Colorizing images; increasing image resolution; removing noise from images; converting images to art in the style of famous artists\n",
    "\n",
    "* **Recommendation systems** Web search; product recommendations; home page layout\n",
    "\n",
    "* **Playing games** Chess, Go, most Atari video games, and many real-time strategy games\n",
    "\n",
    "* **Robotics** Handling objects that are challenging to locate (e.g., transparent, shiny, lacking texture) or hard to pick up\n",
    "\n",
    "* **Other applications** Financial and logistical forecasting, text to speech, and much more..."
   ]
  }
 ],
 "metadata": {
  "language_info": {
   "name": "python"
  },
  "orig_nbformat": 4
 },
 "nbformat": 4,
 "nbformat_minor": 2
}
