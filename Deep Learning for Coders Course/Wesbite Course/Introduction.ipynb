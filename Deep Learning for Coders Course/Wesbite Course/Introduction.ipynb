{
 "cells": [
  {
   "cell_type": "markdown",
   "metadata": {},
   "source": [
    "# Practical Deep Learning for Coders"
   ]
  },
  {
   "cell_type": "markdown",
   "metadata": {},
   "source": [
    "Deep Learning for Coders with fastai and PyTorch: AI Applications without a PhD (Both the Book and the Course)"
   ]
  },
  {
   "cell_type": "markdown",
   "metadata": {},
   "source": [
    "### How do the Lessons work?\n",
    "Each lesson features a video, which all feature transcripts. Each video covers a chapter from within the book, which I will also work through simultaneously to consolidate and revise after completing each unit of the course.\n",
    "\n",
    "This will heavilly use Jupyter Notebooks (what you are looking at right now!), which allows for the flexible deployment of Data Science and Machine Learning programs, and also allows for a good set of notes to complement via the Markdown integretion.\n",
    "\n",
    "I will be doing everything on my own machine (as I own a machine with a nice Nvidia GPU, which is necessary for general Machine Learning tasks, being a 2060 Super). The setup required is relatively simple, and can be done by following the setup instructions from https://docs.fast.ai/. If you are not able to use your own hardware consider the following (this is copied from the course):\n",
    "\n",
    "* Colab (https://course.fast.ai/start_colab): A popular free service from Google. Google have changed the notebook platform quite a lot, so keyboard shortcuts are different, and not everything works (e.g. much of chapter 2 doesn't work because Colab doesn't support creating web app GUIs)\n",
    "* Gradient (https://course.fast.ai/start_gradient): Unlike Colab, this is a \"real\" Jupyter Notebook so everything in the course works. It also provides space to save your notebooks and models. However, sometimes the free servers get over-loaded, and when that happens it's impossible to connect."
   ]
  },
  {
   "cell_type": "markdown",
   "metadata": {},
   "source": [
    "### What are the Requirements?\n",
    "This is a deep learning course, using the fastai and PyTorch frameworks, and apart from the obvious computation requirements, all you need is (again copied from the course):\n",
    "\n",
    "|Myth (don't need) | Truth|\n",
    "|------------------|------|\t\n",
    "Lots of math | Just high school math is sufficient\n",
    "Lots of data | We've seen record-breaking results with <50 items of data\n",
    "Lots of expensive computers | You can get what you need for state of the art work for free"
   ]
  },
  {
   "cell_type": "markdown",
   "metadata": {},
   "source": [
    "### What can Deep Learning do?\n",
    "\n",
    "\n",
    "Deep learning has power, flexibility, and simplicity. That's why we believe it should be applied across many disciplines. These include the social and physical sciences, the arts, medicine, finance, scientific research, and many more. Here's a list of some of the thousands of tasks in different areas at which deep learning, or methods heavily using deep learning, is now the best in the world:\n",
    "\n",
    "* **Natural language processing (NLP)** Answering questions; speech recognition; summarizing documents; classifying documents; finding names, dates, etc. in documents; searching for articles mentioning a concept\n",
    "\n",
    "* **Computer vision** Satellite and drone imagery interpretation (e.g., for disaster resilience); face recognition; image captioning; reading traffic signs; locating pedestrians and vehicles in autonomous vehicles\n",
    "\n",
    "* **Medicine** Finding anomalies in radiology images, including CT, MRI, and X-ray images; counting features in pathology slides; measuring features in ultrasounds; diagnosing diabetic retinopathy\n",
    "\n",
    "* **Biology** Folding proteins; classifying proteins; many genomics tasks, such as tumor-normal sequencing and classifying clinically actionable genetic mutations; cell classification; analyzing protein/protein interactions\n",
    "\n",
    "* **Image generation** Colorizing images; increasing image resolution; removing noise from images; converting images to art in the style of famous artists\n",
    "\n",
    "* **Recommendation systems** Web search; product recommendations; home page layout\n",
    "\n",
    "* **Playing games** Chess, Go, most Atari video games, and many real-time strategy games\n",
    "\n",
    "* **Robotics** Handling objects that are challenging to locate (e.g., transparent, shiny, lacking texture) or hard to pick up\n",
    "\n",
    "* **Other applications** Financial and logistical forecasting, text to speech, and much more...\n",
    "\n"
   ]
  }
 ],
 "metadata": {
  "interpreter": {
   "hash": "916dbcbb3f70747c44a77c7bcd40155683ae19c65e1c03b4aa3499c5328201f1"
  },
  "kernelspec": {
   "display_name": "Python 3.9.7 64-bit",
   "name": "python3"
  },
  "language_info": {
   "name": "python",
   "version": "3.9.7"
  },
  "orig_nbformat": 4
 },
 "nbformat": 4,
 "nbformat_minor": 2
}
